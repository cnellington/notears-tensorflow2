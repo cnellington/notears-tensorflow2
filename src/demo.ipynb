{
 "cells": [
  {
   "cell_type": "code",
   "execution_count": 2,
   "metadata": {},
   "outputs": [
    {
     "name": "stdout",
     "output_type": "stream",
     "text": [
      "2020-08-01 04:07:04,175 INFO - helpers.log_helper - Finished configuring logger.\n",
      "2020-08-01 04:07:04,248 INFO - __main__ - Finished generating dataset\n",
      "WARNING:tensorflow:From /home/mila/z/zhi.yong.ignavier-ng/.conda/envs/notears/lib/python3.6/site-packages/tensorflow_core/python/ops/linalg/linalg_impl.py:283: where (from tensorflow.python.ops.array_ops) is deprecated and will be removed in a future version.\n",
      "Instructions for updating:\n",
      "Use tf.where in 2.0, which has the same broadcast rule as np.where\n",
      "2020-08-01 04:07:04,372 WARNING - tensorflow - From /home/mila/z/zhi.yong.ignavier-ng/.conda/envs/notears/lib/python3.6/site-packages/tensorflow_core/python/ops/linalg/linalg_impl.py:283: where (from tensorflow.python.ops.array_ops) is deprecated and will be removed in a future version.\n",
      "Instructions for updating:\n",
      "Use tf.where in 2.0, which has the same broadcast rule as np.where\n",
      "2020-08-01 04:07:05,518 INFO - models.notears - Model summary:\n",
      "2020-08-01 04:07:05,519 INFO - models.notears - ---------\n",
      "2020-08-01 04:07:05,520 INFO - models.notears - Variables: name (type shape) [size]\n",
      "2020-08-01 04:07:05,520 INFO - models.notears - ---------\n",
      "2020-08-01 04:07:05,521 INFO - models.notears - Variable:0 (float32_ref 20x20) [400, bytes: 1600]\n",
      "2020-08-01 04:07:05,521 INFO - models.notears - Total size of variables: 400\n",
      "2020-08-01 04:07:05,522 INFO - models.notears - Total bytes of variables: 1600\n",
      "2020-08-01 04:07:11,432 INFO - trainers.al_trainer - Started training for 20 iterations\n",
      "2020-08-01 04:07:11,433 INFO - trainers.al_trainer - rho 1.000E+00, alpha 0.000E+00\n",
      "2020-08-01 04:07:17,054 INFO - trainers.al_trainer - [Iter 1] loss 1.487E+01, mse 2.145E+04, acyclic 4.007E-01, shd 52, tpr 0.421, fdr 0.667, pred_size 48\n",
      "2020-08-01 04:07:17,063 INFO - trainers.al_trainer - rho 1.000E+00, alpha 4.007E-01\n",
      "2020-08-01 04:07:20,870 INFO - trainers.al_trainer - rho 1.000E+01, alpha 4.007E-01\n",
      "2020-08-01 04:07:24,679 INFO - trainers.al_trainer - rho 1.000E+02, alpha 4.007E-01\n",
      "2020-08-01 04:07:28,454 INFO - trainers.al_trainer - rho 1.000E+03, alpha 4.007E-01\n",
      "2020-08-01 04:07:32,218 INFO - trainers.al_trainer - [Iter 2] loss 1.200E+01, mse 1.546E+04, acyclic 3.098E-02, shd 16, tpr 0.737, fdr 0.176, pred_size 34\n",
      "2020-08-01 04:07:32,221 INFO - trainers.al_trainer - rho 1.000E+03, alpha 3.138E+01\n",
      "2020-08-01 04:07:35,945 INFO - trainers.al_trainer - rho 1.000E+04, alpha 3.138E+01\n",
      "2020-08-01 04:07:39,771 INFO - trainers.al_trainer - [Iter 3] loss 1.291E+01, mse 1.712E+04, acyclic 7.328E-03, shd 6, tpr 0.868, fdr 0.029, pred_size 34\n",
      "2020-08-01 04:07:39,774 INFO - trainers.al_trainer - rho 1.000E+04, alpha 1.047E+02\n",
      "2020-08-01 04:07:43,542 INFO - trainers.al_trainer - rho 1.000E+05, alpha 1.047E+02\n",
      "2020-08-01 04:07:47,304 INFO - trainers.al_trainer - rho 1.000E+06, alpha 1.047E+02\n",
      "2020-08-01 04:07:51,112 INFO - trainers.al_trainer - [Iter 4] loss 1.412E+01, mse 1.959E+04, acyclic 6.008E-04, shd 3, tpr 0.921, fdr 0.028, pred_size 36\n",
      "2020-08-01 04:07:51,115 INFO - trainers.al_trainer - rho 1.000E+06, alpha 7.055E+02\n",
      "2020-08-01 04:07:54,886 INFO - trainers.al_trainer - rho 1.000E+07, alpha 7.055E+02\n",
      "2020-08-01 04:07:58,674 INFO - trainers.al_trainer - [Iter 5] loss 1.449E+01, mse 2.034E+04, acyclic 8.202E-05, shd 2, tpr 0.974, fdr 0.051, pred_size 39\n",
      "2020-08-01 04:07:58,677 INFO - trainers.al_trainer - rho 1.000E+07, alpha 1.526E+03\n",
      "2020-08-01 04:08:02,429 INFO - trainers.al_trainer - rho 1.000E+08, alpha 1.526E+03\n",
      "2020-08-01 04:08:06,158 INFO - trainers.al_trainer - [Iter 6] loss 1.457E+01, mse 2.052E+04, acyclic 1.717E-05, shd 2, tpr 0.974, fdr 0.051, pred_size 39\n",
      "2020-08-01 04:08:06,161 INFO - trainers.al_trainer - rho 1.000E+08, alpha 3.242E+03\n",
      "2020-08-01 04:08:09,923 INFO - trainers.al_trainer - rho 1.000E+09, alpha 3.242E+03\n",
      "2020-08-01 04:08:13,684 INFO - trainers.al_trainer - rho 1.000E+10, alpha 3.242E+03\n",
      "2020-08-01 04:08:17,478 INFO - trainers.al_trainer - [Iter 7] loss 1.476E+01, mse 2.107E+04, acyclic 1.907E-06, shd 2, tpr 0.974, fdr 0.051, pred_size 39\n",
      "2020-08-01 04:08:17,481 INFO - trainers.al_trainer - rho 1.000E+10, alpha 2.232E+04\n",
      "2020-08-01 04:08:21,230 INFO - trainers.al_trainer - [Iter 8] loss 1.468E+01, mse 2.093E+04, acyclic 0.000E+00, shd 2, tpr 0.974, fdr 0.051, pred_size 39\n",
      "2020-08-01 04:08:21,233 INFO - trainers.al_trainer - Early stopping at 8-th iteration\n",
      "2020-08-01 04:08:21,295 INFO - trainers.al_trainer - Model saved to output/2020-07-31_15-07-04-172/model/\n",
      "2020-08-01 04:08:21,296 INFO - __main__ - Finished training model\n",
      "Figure(800x300)\n",
      "2020-08-01 04:08:22,570 INFO - __main__ - Thresholding.\n",
      "Figure(800x300)\n",
      "2020-08-01 04:08:23,727 INFO - __main__ - Results after thresholding by 0.3: {'fdr': 0.05128205128205128, 'tpr': 0.9736842105263158, 'fpr': 0.013157894736842105, 'shd': 2, 'pred_size': 39}\n"
     ]
    }
   ],
   "source": [
    "!python main.py  --seed 1230 \\\n",
    "                 --d 20 \\\n",
    "                 --n 1000 \\\n",
    "                 --degree 4 \\\n",
    "                 --graph_thres 0.3 \\\n",
    "                 --l1_graph_penalty 0.1"
   ]
  },
  {
   "cell_type": "code",
   "execution_count": null,
   "metadata": {},
   "outputs": [],
   "source": []
  }
 ],
 "metadata": {
  "kernelspec": {
   "display_name": "Python 3",
   "language": "python",
   "name": "python3"
  },
  "language_info": {
   "codemirror_mode": {
    "name": "ipython",
    "version": 3
   },
   "file_extension": ".py",
   "mimetype": "text/x-python",
   "name": "python",
   "nbconvert_exporter": "python",
   "pygments_lexer": "ipython3",
   "version": "3.6.10"
  }
 },
 "nbformat": 4,
 "nbformat_minor": 4
}
